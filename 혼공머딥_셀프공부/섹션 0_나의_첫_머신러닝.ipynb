{
  "nbformat": 4,
  "nbformat_minor": 0,
  "metadata": {
    "colab": {
      "provenance": []
    },
    "kernelspec": {
      "name": "python3",
      "display_name": "Python 3"
    },
    "language_info": {
      "name": "python"
    }
  },
  "cells": [
    {
      "cell_type": "code",
      "execution_count": 1,
      "metadata": {
        "id": "8qSJc4UJREE9"
      },
      "outputs": [],
      "source": [
        "import sklearn\n",
        "import tensorflow\n",
        "# 머신러닝, 딥러닝에 많이 사용할 라이브러리 colab에서 제공"
      ]
    },
    {
      "cell_type": "code",
      "source": [
        "# 도미데이터\n",
        "bream_length = [25.4, 26.3, 26.5, 29.0, 29.0, 29.7, 29.7, 30.0, 30.0,\n",
        "                30.7, 31.0, 31.0, 31.5, 32.0, 32.0 , 32.0, 33.0, 33.0,\n",
        "                33.5, 33.5, 34.0, 34.0, 34.5, 35.0, 35.0, 35.0, 35.0,\n",
        "                36.0, 36.0, 37.0, 38.5, 38.5, 39.5, 41.0, 41.0]\n",
        "print(len(bream_length))\n",
        "\n",
        "\n",
        "bream_weight = [242.0, 290.0, 340.0, 363.0, 430.0, 450.0, 500.0, 390.0,\n",
        "                450.0, 500.0, 390.0, 450.0, 500.0, 475.0, 500.0, 340.0,\n",
        "                600.0, 700.0, 610.0, 650.0, 575.0, 685.0,\n",
        "                620.0, 680.0, 700.0, 725.0, 720.0, 714.0, 850.0, 1000.0,\n",
        "                920.0, 955.0, 925.0, 975.0, 950.0]\n",
        "print(len(bream_weight))"
      ],
      "metadata": {
        "colab": {
          "base_uri": "https://localhost:8080/"
        },
        "id": "27MOZbrQRa28",
        "outputId": "dbfe76bd-7350-4ebf-e5f6-29c29279e527"
      },
      "execution_count": 5,
      "outputs": [
        {
          "output_type": "stream",
          "name": "stdout",
          "text": [
            "35\n",
            "35\n"
          ]
        }
      ]
    },
    {
      "cell_type": "code",
      "source": [
        "# 빙어 데이터\n",
        "smelt_length = [9.8, 10.5, 10.6, 11.0, 11.2, 11.3, 11.8,\n",
        "                11.8, 12.0, 12.2, 12.4, 13.0, 14.3, 15.0]\n",
        "smelt_weight = [6.7, 7.5, 7.0, 9.7, 9.8, 8.7, 10.0, 9.9,\n",
        "                9.8, 12.2, 13.4, 12.2, 19.7, 19.9]\n",
        "print(len(smelt_length))\n",
        "print(len(smelt_weight))"
      ],
      "metadata": {
        "colab": {
          "base_uri": "https://localhost:8080/"
        },
        "id": "oCif-KF6T-Ne",
        "outputId": "e18b1dff-9d6e-42f6-c32c-9d1e073b2ab9"
      },
      "execution_count": 15,
      "outputs": [
        {
          "output_type": "stream",
          "name": "stdout",
          "text": [
            "14\n",
            "14\n"
          ]
        }
      ]
    },
    {
      "cell_type": "code",
      "source": [
        "import matplotlib.pyplot as plt\n",
        "plt.scatter(bream_length, bream_weight)\n",
        "plt.scatter(smelt_length, smelt_weight)\n",
        "# scatter 두개를 호출하면 중첩돼서 그려짐\n",
        "plt.xlabel('length')   # x축 이름 설정\n",
        "plt.ylabel('weight')\n",
        "plt.show()"
      ],
      "metadata": {
        "colab": {
          "base_uri": "https://localhost:8080/",
          "height": 449
        },
        "id": "2aKBQc97Rcst",
        "outputId": "892c212d-6cb9-4f70-a2cb-cbe47dd130e5"
      },
      "execution_count": 16,
      "outputs": [
        {
          "output_type": "display_data",
          "data": {
            "text/plain": [
              "<Figure size 640x480 with 1 Axes>"
            ],
            "image/png": "[encoded data removed]"
          },
          "metadata": {}
        }
      ]
    },
    {
      "cell_type": "code",
      "source": [
        "# 도미와 빙어 합치기\n",
        "length = bream_length + smelt_length\n",
        "weight = bream_weight + smelt_weight"
      ],
      "metadata": {
        "id": "qCgTThdTT4rY"
      },
      "execution_count": 17,
      "outputs": []
    },
    {
      "cell_type": "code",
      "source": [
        "# 2차원 리스트로 변경\n",
        "fish_data = [[ l, w ] for l, w in zip(length, weight)]"
      ],
      "metadata": {
        "id": "PZimirqmVZuu"
      },
      "execution_count": 21,
      "outputs": []
    },
    {
      "cell_type": "code",
      "source": [
        "# 정답 준비\n",
        "fish_target = [1] * 35 + [0] * 14"
      ],
      "metadata": {
        "id": "nReEAGTMb1q5"
      },
      "execution_count": 22,
      "outputs": []
    },
    {
      "cell_type": "code",
      "source": [
        "from sklearn.neighbors import KNeighborsClassifier\n",
        "\n",
        "kn = KNeighborsClassifier()   # 클래스의 객체 생성\n",
        "kn.fit(fish_data, fish_target)\n",
        "kn.score(fish_data, fish_target)"
      ],
      "metadata": {
        "colab": {
          "base_uri": "https://localhost:8080/"
        },
        "id": "c1kQe3nTb-10",
        "outputId": "8413411d-31ac-40c1-8c0f-6648994cbcb2"
      },
      "execution_count": 25,
      "outputs": [
        {
          "output_type": "execute_result",
          "data": {
            "text/plain": [
              "1.0"
            ]
          },
          "metadata": {},
          "execution_count": 25
        }
      ]
    },
    {
      "cell_type": "code",
      "source": [
        "# 새로운 생선 예측\n",
        "kn.predict([[30, 600]])"
      ],
      "metadata": {
        "colab": {
          "base_uri": "https://localhost:8080/"
        },
        "id": "-TmyJaU3ceDZ",
        "outputId": "ed70ee31-cdb0-4e07-b18d-31499c07038a"
      },
      "execution_count": 26,
      "outputs": [
        {
          "output_type": "execute_result",
          "data": {
            "text/plain": [
              "array([1])"
            ]
          },
          "metadata": {},
          "execution_count": 26
        }
      ]
    },
    {
      "cell_type": "code",
      "source": [
        "# 주위에 바라볼 Sample의 개수 늘리기\n",
        "kn49 = KNeighborsClassifier(n_neighbors=49)\n",
        "\n",
        "kn49.fit(fish_data, fish_target)\n",
        "kn49.score(fish_data, fish_target)"
      ],
      "metadata": {
        "colab": {
          "base_uri": "https://localhost:8080/"
        },
        "id": "u5gSngAWcfTO",
        "outputId": "d0adfb4d-4631-47d7-9ff8-8444a18cbc39"
      },
      "execution_count": 29,
      "outputs": [
        {
          "output_type": "execute_result",
          "data": {
            "text/plain": [
              "0.7142857142857143"
            ]
          },
          "metadata": {},
          "execution_count": 29
        }
      ]
    }
  ]
}
